{
  "nbformat": 4,
  "nbformat_minor": 0,
  "metadata": {
    "colab": {
      "provenance": [],
      "authorship_tag": "ABX9TyM5MGqxzsatHsHxQ/7vydIX",
      "include_colab_link": true
    },
    "kernelspec": {
      "name": "python3",
      "display_name": "Python 3"
    },
    "language_info": {
      "name": "python"
    }
  },
  "cells": [
    {
      "cell_type": "markdown",
      "metadata": {
        "id": "view-in-github",
        "colab_type": "text"
      },
      "source": [
        "<a href=\"https://colab.research.google.com/github/AnaRosaSilva/Colab_Atividades/blob/main/aula02_01_10_23.ipynb\" target=\"_parent\"><img src=\"https://colab.research.google.com/assets/colab-badge.svg\" alt=\"Open In Colab\"/></a>"
      ]
    },
    {
      "cell_type": "code",
      "execution_count": null,
      "metadata": {
        "id": "o62NBGUHFQ0W"
      },
      "outputs": [],
      "source": [
        "x=2\n",
        "y=10\n",
        "z=x+y\n",
        "a=1.2\n",
        "nome='Ana'"
      ]
    },
    {
      "cell_type": "code",
      "source": [
        "type(x)\n",
        "print(type(x))\n",
        "type(y)\n",
        "print(type(y))\n",
        "type(a)\n",
        "print(type(a))\n",
        "type(nome)\n",
        "print(type(nome))"
      ],
      "metadata": {
        "colab": {
          "base_uri": "https://localhost:8080/"
        },
        "id": "VWl_NcElFy09",
        "outputId": "160d2930-78a3-4260-e1c7-11642ca642ee"
      },
      "execution_count": null,
      "outputs": [
        {
          "output_type": "stream",
          "name": "stdout",
          "text": [
            "<class 'int'>\n",
            "<class 'int'>\n",
            "<class 'float'>\n",
            "<class 'str'>\n"
          ]
        }
      ]
    },
    {
      "cell_type": "code",
      "source": [
        "print(x)\n",
        "print(y)\n",
        "print(z)"
      ],
      "metadata": {
        "colab": {
          "base_uri": "https://localhost:8080/"
        },
        "id": "OEPLcRn5Gkie",
        "outputId": "40b4fe6c-4b64-4c01-ddc6-c151ef8b5533"
      },
      "execution_count": null,
      "outputs": [
        {
          "output_type": "stream",
          "name": "stdout",
          "text": [
            "2\n",
            "10\n",
            "12\n"
          ]
        }
      ]
    },
    {
      "cell_type": "code",
      "source": [
        "print(\"Digite um valor a ser atribuido na variavel\")\n",
        "print(\"os valores são \",x,z)"
      ],
      "metadata": {
        "colab": {
          "base_uri": "https://localhost:8080/"
        },
        "id": "fQoqvWzrKKKJ",
        "outputId": "74c93871-f810-44bd-bc26-0257d1e3420b"
      },
      "execution_count": null,
      "outputs": [
        {
          "output_type": "stream",
          "name": "stdout",
          "text": [
            "Digite um valor a ser atribuido na variavel\n",
            "os valores são  2 12\n"
          ]
        }
      ]
    },
    {
      "cell_type": "code",
      "source": [
        "s=input(\"digite um valor: \")\n",
        "print(s)"
      ],
      "metadata": {
        "colab": {
          "base_uri": "https://localhost:8080/"
        },
        "id": "JIjdAzFdKuxJ",
        "outputId": "e44d82c0-79e4-41c6-8b39-05eb6bc74295"
      },
      "execution_count": null,
      "outputs": [
        {
          "output_type": "stream",
          "name": "stdout",
          "text": [
            "digite um valor: 18\n",
            "18\n"
          ]
        }
      ]
    },
    {
      "cell_type": "code",
      "source": [
        "p=str(x)#transformou int para str\n",
        "print(x)\n",
        "g=2+x\n",
        "print(g)\n",
        "t=p+'p'\n",
        "print(t)"
      ],
      "metadata": {
        "colab": {
          "base_uri": "https://localhost:8080/"
        },
        "id": "p-Hvev5wLaa5",
        "outputId": "7f4b550e-9322-4abd-a74b-bd079901173a"
      },
      "execution_count": null,
      "outputs": [
        {
          "output_type": "stream",
          "name": "stdout",
          "text": [
            "2\n",
            "4\n",
            "2p\n"
          ]
        }
      ]
    },
    {
      "cell_type": "code",
      "source": [
        "type(p)\n",
        "print(type(p))\n",
        "type(x)\n",
        "print(type(x))\n",
        "print(\"---------------\")\n",
        "print(type(t))"
      ],
      "metadata": {
        "colab": {
          "base_uri": "https://localhost:8080/"
        },
        "id": "3lnlrBxsM5d4",
        "outputId": "185eaad0-2e91-43f7-a230-edff67c75175"
      },
      "execution_count": null,
      "outputs": [
        {
          "output_type": "stream",
          "name": "stdout",
          "text": [
            "<class 'str'>\n",
            "<class 'int'>\n",
            "---------------\n",
            "<class 'str'>\n"
          ]
        }
      ]
    },
    {
      "cell_type": "code",
      "source": [
        "print(x)\n",
        "X=16\n",
        "print(X)"
      ],
      "metadata": {
        "colab": {
          "base_uri": "https://localhost:8080/"
        },
        "id": "FQgTkrR9OHH5",
        "outputId": "6ad1750d-c322-4ad5-f5ae-b36b0c17cca7"
      },
      "execution_count": null,
      "outputs": [
        {
          "output_type": "stream",
          "name": "stdout",
          "text": [
            "2\n",
            "16\n"
          ]
        }
      ]
    },
    {
      "cell_type": "code",
      "source": [
        "#   ctrl/\n",
        "#   selecinar varias linhas\n",
        "# --------------------------------------\n",
        "#   selecinar uma linhas\n",
        "#   (colocar jogo da velha \"#\" ) ctrl#\n",
        "# ---------------------------------------\n",
        "#   tab == espaço\n",
        "# ---------------------------------------"
      ],
      "metadata": {
        "id": "lno1E4SyQKkv"
      },
      "execution_count": null,
      "outputs": []
    },
    {
      "cell_type": "code",
      "source": [],
      "metadata": {
        "id": "KsrlSCDCO44Y"
      },
      "execution_count": null,
      "outputs": []
    }
  ]
}