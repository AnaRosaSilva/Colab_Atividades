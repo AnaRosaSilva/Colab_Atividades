{
  "nbformat": 4,
  "nbformat_minor": 0,
  "metadata": {
    "colab": {
      "provenance": [],
      "authorship_tag": "ABX9TyOLh4imgaO57GWGsPxQ8DxJ",
      "include_colab_link": true
    },
    "kernelspec": {
      "name": "python3",
      "display_name": "Python 3"
    },
    "language_info": {
      "name": "python"
    }
  },
  "cells": [
    {
      "cell_type": "markdown",
      "metadata": {
        "id": "view-in-github",
        "colab_type": "text"
      },
      "source": [
        "<a href=\"https://colab.research.google.com/github/AnaRosaSilva/Colab_Atividades/blob/main/jogo_da_forca.ipynb\" target=\"_parent\"><img src=\"https://colab.research.google.com/assets/colab-badge.svg\" alt=\"Open In Colab\"/></a>"
      ]
    },
    {
      "cell_type": "code",
      "execution_count": 6,
      "metadata": {
        "colab": {
          "base_uri": "https://localhost:8080/"
        },
        "id": "GDmLHx5VrCAX",
        "outputId": "21765110-adc6-4229-8823-d1aa755127e0"
      },
      "outputs": [
        {
          "output_type": "stream",
          "name": "stdout",
          "text": [
            "-=-=-=-=-=-=-=-=-=-=-=-=-=-=-=-=-=-=-=-=\n",
            "      JOGO DA FORCAPYTHON\n",
            "-=-=-=-=-=-=-=-=-=-=-=-=-=-=-=-=-=-=-=-=\n",
            "Digite uma letra: \n",
            "p\n",
            "Apalavra secreta esta assim: *******\n",
            "Você tem 2 chances\n",
            "\n",
            "Digite uma letra: \n",
            "a\n",
            "Apalavra secreta esta assim: *a****a\n",
            "Você tem 2 chances\n",
            "\n",
            "Digite uma letra: \n",
            "l\n",
            "Apalavra secreta esta assim: *al***a\n",
            "Você tem 2 chances\n",
            "\n",
            "Digite uma letra: \n",
            "n\n",
            "Apalavra secreta esta assim: *al*n*a\n",
            "Você tem 2 chances\n",
            "\n",
            "Digite uma letra: \n",
            "g\n",
            "Apalavra secreta esta assim: gal*n*a\n",
            "Você tem 2 chances\n",
            "\n",
            "Digite uma letra: \n",
            "h\n",
            "Apalavra secreta esta assim: gal*nha\n",
            "Você tem 2 chances\n",
            "\n",
            "Digite uma letra: \n",
            "h\n",
            "Apalavra secreta esta assim: gal*nha\n",
            "Você tem 2 chances\n",
            "\n",
            "Digite uma letra: \n",
            "i\n",
            "Você Venceu e escapou da forca\n"
          ]
        }
      ],
      "source": [
        "import random\n",
        "palavra_secreta = ['perfume','galinha','armario','tijolo','homem','mulher','criança','salgado',\"cimento\"]\n",
        "secreto = random.choice(palavra_secreta)\n",
        "digitadas=[]\n",
        "chances = 3\n",
        "print('-=' * 20)\n",
        "print('      JOGO DA FORCAPYTHON')\n",
        "print('-=' * 20)\n",
        "while True:\n",
        "\n",
        "  letra = str(input('Digite uma letra: '))\n",
        "\n",
        "  if len(letra)> 1:\n",
        "\n",
        "    print('ERRO, Não vale digitar mais de uma letra.')\n",
        "    continue\n",
        "  digitadas.append(letra)\n",
        "  secreto_temporario = ''\n",
        "  for letra_secreta in secreto:\n",
        "    if letra_secreta in digitadas:\n",
        "      secreto_temporario += letra_secreta\n",
        "    else:\n",
        "      secreto_temporario += '*'\n",
        "  if secreto_temporario == secreto:\n",
        "    print ('Você Venceu e escapou da forca')\n",
        "    break\n",
        "  else:\n",
        "    print(f'Apalavra secreta esta assim: {secreto_temporario}')\n",
        "  if letra not in secreto:\n",
        "    chances -= 1\n",
        "  if chances <= 0:\n",
        "    print('Você Perdeu! FORCA!')\n",
        "    break\n",
        "  print(f'Você tem {chances} chances')\n",
        "  print()\n"
      ]
    }
  ]
}